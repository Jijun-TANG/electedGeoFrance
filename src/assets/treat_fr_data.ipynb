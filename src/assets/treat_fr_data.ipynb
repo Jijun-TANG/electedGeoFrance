{
 "cells": [
  {
   "cell_type": "code",
   "execution_count": 140,
   "id": "869cb0d3",
   "metadata": {},
   "outputs": [],
   "source": [
    "import pandas as pd\n",
    "from typing import Dict,List,Optional\n",
    "import json\n",
    "from collections import defaultdict as dd"
   ]
  },
  {
   "cell_type": "code",
   "execution_count": 141,
   "id": "68672296",
   "metadata": {},
   "outputs": [],
   "source": [
    "df1 = pd.read_csv(\"territories.csv\", sep = ',')"
   ]
  },
  {
   "cell_type": "code",
   "execution_count": 142,
   "id": "08406aaa",
   "metadata": {},
   "outputs": [
    {
     "data": {
      "text/plain": [
       "id                        int64\n",
       "code                     object\n",
       "name                     object\n",
       "kind                     object\n",
       "created_at               object\n",
       "updated_at               object\n",
       "is_current                 bool\n",
       "population              float64\n",
       "official_website_url     object\n",
       "articles_count            int64\n",
       "admin_docs_count          int64\n",
       "impacters_count           int64\n",
       "websites_count            int64\n",
       "sources_count             int64\n",
       "dtype: object"
      ]
     },
     "execution_count": 142,
     "metadata": {},
     "output_type": "execute_result"
    }
   ],
   "source": [
    "df1.dtypes"
   ]
  },
  {
   "cell_type": "code",
   "execution_count": 143,
   "id": "2b83d0ab",
   "metadata": {},
   "outputs": [],
   "source": [
    "df1.dropna(subset=['name'], inplace = True)"
   ]
  },
  {
   "cell_type": "code",
   "execution_count": 144,
   "id": "7e3e56b2",
   "metadata": {},
   "outputs": [
    {
     "data": {
      "text/html": [
       "<div>\n",
       "<style scoped>\n",
       "    .dataframe tbody tr th:only-of-type {\n",
       "        vertical-align: middle;\n",
       "    }\n",
       "\n",
       "    .dataframe tbody tr th {\n",
       "        vertical-align: top;\n",
       "    }\n",
       "\n",
       "    .dataframe thead th {\n",
       "        text-align: right;\n",
       "    }\n",
       "</style>\n",
       "<table border=\"1\" class=\"dataframe\">\n",
       "  <thead>\n",
       "    <tr style=\"text-align: right;\">\n",
       "      <th></th>\n",
       "      <th>id</th>\n",
       "      <th>code</th>\n",
       "      <th>name</th>\n",
       "      <th>kind</th>\n",
       "      <th>created_at</th>\n",
       "      <th>updated_at</th>\n",
       "      <th>is_current</th>\n",
       "      <th>population</th>\n",
       "      <th>official_website_url</th>\n",
       "      <th>articles_count</th>\n",
       "      <th>admin_docs_count</th>\n",
       "      <th>impacters_count</th>\n",
       "      <th>websites_count</th>\n",
       "      <th>sources_count</th>\n",
       "    </tr>\n",
       "  </thead>\n",
       "  <tbody>\n",
       "    <tr>\n",
       "      <th>0</th>\n",
       "      <td>4</td>\n",
       "      <td>240100883</td>\n",
       "      <td>CC de la Plaine de l'Ain</td>\n",
       "      <td>FREPCI</td>\n",
       "      <td>2019-12-10 12:38:53.752692</td>\n",
       "      <td>2020-06-23 13:14:56.170453</td>\n",
       "      <td>True</td>\n",
       "      <td>NaN</td>\n",
       "      <td>http://www.cc-plainedelain.fr</td>\n",
       "      <td>2</td>\n",
       "      <td>2</td>\n",
       "      <td>33</td>\n",
       "      <td>34</td>\n",
       "      <td>98</td>\n",
       "    </tr>\n",
       "    <tr>\n",
       "      <th>1</th>\n",
       "      <td>3</td>\n",
       "      <td>01</td>\n",
       "      <td>Ain</td>\n",
       "      <td>FRDEPA</td>\n",
       "      <td>2019-12-10 12:38:53.599256</td>\n",
       "      <td>2020-07-28 07:20:18.244356</td>\n",
       "      <td>True</td>\n",
       "      <td>NaN</td>\n",
       "      <td>NaN</td>\n",
       "      <td>23</td>\n",
       "      <td>34</td>\n",
       "      <td>343</td>\n",
       "      <td>3443</td>\n",
       "      <td>3443</td>\n",
       "    </tr>\n",
       "    <tr>\n",
       "      <th>2</th>\n",
       "      <td>41548</td>\n",
       "      <td>85279</td>\n",
       "      <td>Saligny</td>\n",
       "      <td>FRCOMM</td>\n",
       "      <td>2020-10-13 10:46:41.222944</td>\n",
       "      <td>2021-01-13 14:56:20.510037</td>\n",
       "      <td>True</td>\n",
       "      <td>NaN</td>\n",
       "      <td>NaN</td>\n",
       "      <td>0</td>\n",
       "      <td>0</td>\n",
       "      <td>0</td>\n",
       "      <td>0</td>\n",
       "      <td>0</td>\n",
       "    </tr>\n",
       "    <tr>\n",
       "      <th>3</th>\n",
       "      <td>36858</td>\n",
       "      <td>11022</td>\n",
       "      <td>Montreal</td>\n",
       "      <td>FRCANT</td>\n",
       "      <td>2020-10-13 10:45:51.622454</td>\n",
       "      <td>2021-01-13 14:54:14.065575</td>\n",
       "      <td>True</td>\n",
       "      <td>NaN</td>\n",
       "      <td>NaN</td>\n",
       "      <td>0</td>\n",
       "      <td>0</td>\n",
       "      <td>0</td>\n",
       "      <td>0</td>\n",
       "      <td>0</td>\n",
       "    </tr>\n",
       "    <tr>\n",
       "      <th>4</th>\n",
       "      <td>40550</td>\n",
       "      <td>66016</td>\n",
       "      <td>Sournia</td>\n",
       "      <td>FRCANT</td>\n",
       "      <td>2020-10-13 10:46:31.315826</td>\n",
       "      <td>2021-01-13 14:54:14.065575</td>\n",
       "      <td>True</td>\n",
       "      <td>NaN</td>\n",
       "      <td>NaN</td>\n",
       "      <td>0</td>\n",
       "      <td>0</td>\n",
       "      <td>0</td>\n",
       "      <td>0</td>\n",
       "      <td>0</td>\n",
       "    </tr>\n",
       "  </tbody>\n",
       "</table>\n",
       "</div>"
      ],
      "text/plain": [
       "      id       code                      name    kind  \\\n",
       "0      4  240100883  CC de la Plaine de l'Ain  FREPCI   \n",
       "1      3         01                       Ain  FRDEPA   \n",
       "2  41548      85279                   Saligny  FRCOMM   \n",
       "3  36858      11022                  Montreal  FRCANT   \n",
       "4  40550      66016                   Sournia  FRCANT   \n",
       "\n",
       "                   created_at                  updated_at  is_current  \\\n",
       "0  2019-12-10 12:38:53.752692  2020-06-23 13:14:56.170453        True   \n",
       "1  2019-12-10 12:38:53.599256  2020-07-28 07:20:18.244356        True   \n",
       "2  2020-10-13 10:46:41.222944  2021-01-13 14:56:20.510037        True   \n",
       "3  2020-10-13 10:45:51.622454  2021-01-13 14:54:14.065575        True   \n",
       "4  2020-10-13 10:46:31.315826  2021-01-13 14:54:14.065575        True   \n",
       "\n",
       "   population           official_website_url  articles_count  \\\n",
       "0         NaN  http://www.cc-plainedelain.fr               2   \n",
       "1         NaN                            NaN              23   \n",
       "2         NaN                            NaN               0   \n",
       "3         NaN                            NaN               0   \n",
       "4         NaN                            NaN               0   \n",
       "\n",
       "   admin_docs_count  impacters_count  websites_count  sources_count  \n",
       "0                 2               33              34             98  \n",
       "1                34              343            3443           3443  \n",
       "2                 0                0               0              0  \n",
       "3                 0                0               0              0  \n",
       "4                 0                0               0              0  "
      ]
     },
     "execution_count": 144,
     "metadata": {},
     "output_type": "execute_result"
    }
   ],
   "source": [
    "df1.head(5)"
   ]
  },
  {
   "cell_type": "raw",
   "id": "fd8c83d0",
   "metadata": {},
   "source": [
    "print(\"length of data frame before \", len(df1))\n",
    "df1.drop_duplicates(subset = [\"name\", \"kind\",\"created_at\",], inplace = True)\n",
    "\"\"\"\n",
    "We have many duplicates like \"{\"id\": 37944, \"name\": \"Eure\", \"kind\": \"FRCANT\", \"code\": \"27001\", \"children\": []}, \n",
    "{\"id\": 37946, \"name\": \"Eure\", \"kind\": \"FRCANT\", \"code\": \"27003\", \"children\": []}, \n",
    "{\"id\": 37947, \"name\": \"Eure\", \"kind\": \"FRCANT\", \"code\": \"27004\", \"children\": []}, \n",
    "{\"id\": 37948, \"name\": \"Eure\", \"kind\": \"FRCANT\", \"code\": \"27005\", \"children\": []}, \n",
    "{\"id\": 37949, \"name\": \"Eure\", \"kind\": \"FRCANT\", \"code\": \"27006\", \"children\": []},\n",
    "{\"id\": 37950, \"name\": \"Eure\", \"kind\": \"FRCANT\", \"code\": \"27007\", \"children\": []}, \n",
    "{\"id\": 37951, \"name\": \"Eure\", \"kind\": \"FRCANT\", \"code\": \"27008\", \"children\": []}, \n",
    "{\"id\": 37952, \"name\": \"Eure\", \"kind\": \"FRCANT\", \"code\": \"27009\", \"children\": []}, \n",
    "{\"id\": 37953, \"name\": \"Eure\", \"kind\": \"FRCANT\", \"code\": \"27010\", \"children\": []}, \n",
    "{\"id\": 37954, \"name\": \"Eure\", \"kind\": \"FRCANT\", \"code\": \"27011\", \"children\": []}, \n",
    "{\"id\": 37955, \"name\": \"Eure\", \"kind\": \"FRCANT\", \"code\": \"27012\", \"children\": []}, \n",
    "{\"id\": 37956, \"name\": \"Eure\", \"kind\": \"FRCANT\", \"code\": \"27013\", \"children\": []}, \n",
    "{\"id\": 37957, \"name\": \"Eure\", \"kind\": \"FRCANT\", \"code\": \"27014\", \"children\": []}, \n",
    "{\"id\": 37958, \"name\": \"Eure\", \"kind\": \"FRCANT\", \"code\": \"27015\", \"children\": []}\"\n",
    "\"\"\"\n",
    "print(\"length of data frame after \", len(df1))"
   ]
  },
  {
   "cell_type": "code",
   "execution_count": 145,
   "id": "8ab7d052",
   "metadata": {},
   "outputs": [],
   "source": [
    "df1.reset_index(inplace = True)"
   ]
  },
  {
   "cell_type": "code",
   "execution_count": 146,
   "id": "8d5c7cea",
   "metadata": {},
   "outputs": [
    {
     "data": {
      "text/plain": [
       "42283"
      ]
     },
     "execution_count": 146,
     "metadata": {},
     "output_type": "execute_result"
    }
   ],
   "source": [
    "len(df1)"
   ]
  },
  {
   "cell_type": "code",
   "execution_count": 121,
   "id": "45d54142",
   "metadata": {},
   "outputs": [
    {
     "data": {
      "text/html": [
       "<div>\n",
       "<style scoped>\n",
       "    .dataframe tbody tr th:only-of-type {\n",
       "        vertical-align: middle;\n",
       "    }\n",
       "\n",
       "    .dataframe tbody tr th {\n",
       "        vertical-align: top;\n",
       "    }\n",
       "\n",
       "    .dataframe thead th {\n",
       "        text-align: right;\n",
       "    }\n",
       "</style>\n",
       "<table border=\"1\" class=\"dataframe\">\n",
       "  <thead>\n",
       "    <tr style=\"text-align: right;\">\n",
       "      <th></th>\n",
       "      <th>id</th>\n",
       "      <th>code</th>\n",
       "      <th>name</th>\n",
       "      <th>kind</th>\n",
       "      <th>created_at</th>\n",
       "      <th>updated_at</th>\n",
       "      <th>is_current</th>\n",
       "      <th>population</th>\n",
       "      <th>official_website_url</th>\n",
       "      <th>articles_count</th>\n",
       "      <th>admin_docs_count</th>\n",
       "      <th>impacters_count</th>\n",
       "      <th>websites_count</th>\n",
       "      <th>sources_count</th>\n",
       "    </tr>\n",
       "  </thead>\n",
       "  <tbody>\n",
       "    <tr>\n",
       "      <th>42282</th>\n",
       "      <td>42262</td>\n",
       "      <td>97408</td>\n",
       "      <td>La Reunion</td>\n",
       "      <td>FRCANT</td>\n",
       "      <td>2020-10-13 10:46:41.222944</td>\n",
       "      <td>2021-01-13 14:54:26.826017</td>\n",
       "      <td>True</td>\n",
       "      <td>NaN</td>\n",
       "      <td>NaN</td>\n",
       "      <td>0</td>\n",
       "      <td>0</td>\n",
       "      <td>0</td>\n",
       "      <td>0</td>\n",
       "      <td>0</td>\n",
       "    </tr>\n",
       "    <tr>\n",
       "      <th>42283</th>\n",
       "      <td>42265</td>\n",
       "      <td>97411</td>\n",
       "      <td>Saint-Benoit 1</td>\n",
       "      <td>FRCANT</td>\n",
       "      <td>2020-10-13 10:46:41.222944</td>\n",
       "      <td>2021-01-13 14:54:26.826017</td>\n",
       "      <td>True</td>\n",
       "      <td>NaN</td>\n",
       "      <td>NaN</td>\n",
       "      <td>0</td>\n",
       "      <td>0</td>\n",
       "      <td>0</td>\n",
       "      <td>0</td>\n",
       "      <td>0</td>\n",
       "    </tr>\n",
       "    <tr>\n",
       "      <th>42284</th>\n",
       "      <td>42266</td>\n",
       "      <td>97412</td>\n",
       "      <td>Saint-Denis 1</td>\n",
       "      <td>FRCANT</td>\n",
       "      <td>2020-10-13 10:46:41.222944</td>\n",
       "      <td>2021-01-13 14:54:26.826017</td>\n",
       "      <td>True</td>\n",
       "      <td>NaN</td>\n",
       "      <td>NaN</td>\n",
       "      <td>0</td>\n",
       "      <td>0</td>\n",
       "      <td>0</td>\n",
       "      <td>0</td>\n",
       "      <td>0</td>\n",
       "    </tr>\n",
       "    <tr>\n",
       "      <th>42285</th>\n",
       "      <td>42267</td>\n",
       "      <td>97413</td>\n",
       "      <td>Saint-Denis 2</td>\n",
       "      <td>FRCANT</td>\n",
       "      <td>2020-10-13 10:46:41.222944</td>\n",
       "      <td>2021-01-13 14:54:26.826017</td>\n",
       "      <td>True</td>\n",
       "      <td>NaN</td>\n",
       "      <td>NaN</td>\n",
       "      <td>0</td>\n",
       "      <td>0</td>\n",
       "      <td>0</td>\n",
       "      <td>0</td>\n",
       "      <td>0</td>\n",
       "    </tr>\n",
       "    <tr>\n",
       "      <th>42286</th>\n",
       "      <td>1</td>\n",
       "      <td>33</td>\n",
       "      <td>France</td>\n",
       "      <td>FRPAYS</td>\n",
       "      <td>2019-12-10 12:38:53.327702</td>\n",
       "      <td>2020-10-19 14:52:05.682615</td>\n",
       "      <td>True</td>\n",
       "      <td>NaN</td>\n",
       "      <td>NaN</td>\n",
       "      <td>54234532</td>\n",
       "      <td>1434322</td>\n",
       "      <td>0</td>\n",
       "      <td>19406</td>\n",
       "      <td>262</td>\n",
       "    </tr>\n",
       "  </tbody>\n",
       "</table>\n",
       "</div>"
      ],
      "text/plain": [
       "          id   code            name    kind                  created_at  \\\n",
       "42282  42262  97408      La Reunion  FRCANT  2020-10-13 10:46:41.222944   \n",
       "42283  42265  97411  Saint-Benoit 1  FRCANT  2020-10-13 10:46:41.222944   \n",
       "42284  42266  97412   Saint-Denis 1  FRCANT  2020-10-13 10:46:41.222944   \n",
       "42285  42267  97413   Saint-Denis 2  FRCANT  2020-10-13 10:46:41.222944   \n",
       "42286      1     33          France  FRPAYS  2019-12-10 12:38:53.327702   \n",
       "\n",
       "                       updated_at  is_current  population  \\\n",
       "42282  2021-01-13 14:54:26.826017        True         NaN   \n",
       "42283  2021-01-13 14:54:26.826017        True         NaN   \n",
       "42284  2021-01-13 14:54:26.826017        True         NaN   \n",
       "42285  2021-01-13 14:54:26.826017        True         NaN   \n",
       "42286  2020-10-19 14:52:05.682615        True         NaN   \n",
       "\n",
       "      official_website_url  articles_count  admin_docs_count  impacters_count  \\\n",
       "42282                  NaN               0                 0                0   \n",
       "42283                  NaN               0                 0                0   \n",
       "42284                  NaN               0                 0                0   \n",
       "42285                  NaN               0                 0                0   \n",
       "42286                  NaN        54234532           1434322                0   \n",
       "\n",
       "       websites_count  sources_count  \n",
       "42282               0              0  \n",
       "42283               0              0  \n",
       "42284               0              0  \n",
       "42285               0              0  \n",
       "42286           19406            262  "
      ]
     },
     "execution_count": 121,
     "metadata": {},
     "output_type": "execute_result"
    }
   ],
   "source": [
    "df1.tail(5)"
   ]
  },
  {
   "cell_type": "raw",
   "id": "85bbb21a",
   "metadata": {},
   "source": [
    "name_dict = dd(list)\n",
    "for i in range(len(df1)):\n",
    "    name_dict[df1['id'][i]].append(df1['name'][i])"
   ]
  },
  {
   "cell_type": "raw",
   "id": "55ae9d9f",
   "metadata": {},
   "source": [
    "terra_dict = dict()\n",
    "for i in range(len(df1)):\n",
    "    id_terra = df1['kind'][i]+df1['code'][i]\n",
    "    terra_dict[id_terra] = (df1['name'][i], df1['kind'][i])\n",
    "#print(terra_dict)"
   ]
  },
  {
   "cell_type": "code",
   "execution_count": 147,
   "id": "7dba6aa4",
   "metadata": {},
   "outputs": [],
   "source": [
    "id_dict = dict()\n",
    "duplicates = set()\n",
    "for i in range(len(df1)):\n",
    "    if (df1['name'][i], df1['kind'][i], df1['created_at'][i], df1['updated_at'][i]) in duplicates:#Ig\n",
    "        continue\n",
    "    id_dict[df1['id'][i]] = (df1['name'][i], df1['kind'][i], df1['code'][i])\n",
    "    duplicates.add((df1['name'][i], df1['kind'][i], df1['created_at'][i], df1['updated_at'][i]))"
   ]
  },
  {
   "cell_type": "code",
   "execution_count": 148,
   "id": "a0a076ea",
   "metadata": {},
   "outputs": [
    {
     "data": {
      "text/plain": [
       "('Moulins', 'FRCOMM', '03190')"
      ]
     },
     "execution_count": 148,
     "metadata": {},
     "output_type": "execute_result"
    }
   ],
   "source": [
    "id_dict[1435]"
   ]
  },
  {
   "cell_type": "code",
   "execution_count": 132,
   "id": "db1ff460",
   "metadata": {},
   "outputs": [
    {
     "data": {
      "text/plain": [
       "42283"
      ]
     },
     "execution_count": 132,
     "metadata": {},
     "output_type": "execute_result"
    }
   ],
   "source": [
    "len(df1)"
   ]
  },
  {
   "cell_type": "code",
   "execution_count": 151,
   "id": "691508b8",
   "metadata": {},
   "outputs": [
    {
     "data": {
      "text/plain": [
       "40446"
      ]
     },
     "execution_count": 151,
     "metadata": {},
     "output_type": "execute_result"
    }
   ],
   "source": [
    "len(id_dict)"
   ]
  },
  {
   "cell_type": "code",
   "execution_count": 152,
   "id": "65e61593",
   "metadata": {},
   "outputs": [],
   "source": [
    "regis, departs, epcis, communes, cantons = {},{},{},{},{}\n",
    "for i in range(len(df1)):\n",
    "    if type(df1['name'][i])!=str:\n",
    "        continue\n",
    "    if df1['kind'][i]=='FRREGI':\n",
    "        regis[df1['id'][i]] = (df1['name'][i], df1['kind'][i])\n",
    "    elif df1['kind'][i]=='FRDEPA':\n",
    "        departs[df1['id'][i]] = (df1['name'][i], df1['kind'][i])\n",
    "    elif df1['kind'][i]=='FREPCI':\n",
    "        epcis[df1['id'][i]] = (df1['name'][i], df1['kind'][i])\n",
    "    elif df1['kind'][i]=='FRCOMM':\n",
    "        communes[df1['id'][i]] = (df1['name'][i], df1['kind'][i])\n",
    "    elif df1['kind'][i]=='FRCANT':\n",
    "        cantons[df1['id'][i]] = (df1['name'][i], df1['kind'][i])"
   ]
  },
  {
   "cell_type": "code",
   "execution_count": 153,
   "id": "0a1007a0",
   "metadata": {},
   "outputs": [
    {
     "name": "stdout",
     "output_type": "stream",
     "text": [
      "35\n",
      "109\n",
      "1272\n",
      "36811\n",
      "4055\n"
     ]
    }
   ],
   "source": [
    "print(len(regis))\n",
    "print(len(departs))\n",
    "print(len(epcis))\n",
    "print(len(communes))\n",
    "print(len(cantons))"
   ]
  },
  {
   "cell_type": "code",
   "execution_count": 154,
   "id": "3b706986",
   "metadata": {
    "scrolled": true
   },
   "outputs": [
    {
     "data": {
      "text/html": [
       "<div>\n",
       "<style scoped>\n",
       "    .dataframe tbody tr th:only-of-type {\n",
       "        vertical-align: middle;\n",
       "    }\n",
       "\n",
       "    .dataframe tbody tr th {\n",
       "        vertical-align: top;\n",
       "    }\n",
       "\n",
       "    .dataframe thead th {\n",
       "        text-align: right;\n",
       "    }\n",
       "</style>\n",
       "<table border=\"1\" class=\"dataframe\">\n",
       "  <thead>\n",
       "    <tr style=\"text-align: right;\">\n",
       "      <th></th>\n",
       "      <th>id</th>\n",
       "      <th>child_id</th>\n",
       "      <th>parent_id</th>\n",
       "      <th>created_at</th>\n",
       "      <th>updated_at</th>\n",
       "    </tr>\n",
       "  </thead>\n",
       "  <tbody>\n",
       "    <tr>\n",
       "      <th>0</th>\n",
       "      <td>1</td>\n",
       "      <td>3</td>\n",
       "      <td>2</td>\n",
       "      <td>2021-01-12 06:06:36.160724</td>\n",
       "      <td>2021-01-12 06:06:36.160724</td>\n",
       "    </tr>\n",
       "    <tr>\n",
       "      <th>1</th>\n",
       "      <td>2</td>\n",
       "      <td>41</td>\n",
       "      <td>3</td>\n",
       "      <td>2021-01-12 06:06:36.160724</td>\n",
       "      <td>2021-01-12 06:06:36.160724</td>\n",
       "    </tr>\n",
       "    <tr>\n",
       "      <th>2</th>\n",
       "      <td>3</td>\n",
       "      <td>34206</td>\n",
       "      <td>34125</td>\n",
       "      <td>2021-01-12 06:06:36.160724</td>\n",
       "      <td>2021-01-12 06:06:36.160724</td>\n",
       "    </tr>\n",
       "    <tr>\n",
       "      <th>3</th>\n",
       "      <td>4</td>\n",
       "      <td>34231</td>\n",
       "      <td>34125</td>\n",
       "      <td>2021-01-12 06:06:36.160724</td>\n",
       "      <td>2021-01-12 06:06:36.160724</td>\n",
       "    </tr>\n",
       "    <tr>\n",
       "      <th>4</th>\n",
       "      <td>5</td>\n",
       "      <td>34238</td>\n",
       "      <td>34125</td>\n",
       "      <td>2021-01-12 06:06:36.160724</td>\n",
       "      <td>2021-01-12 06:06:36.160724</td>\n",
       "    </tr>\n",
       "    <tr>\n",
       "      <th>5</th>\n",
       "      <td>6</td>\n",
       "      <td>34253</td>\n",
       "      <td>34125</td>\n",
       "      <td>2021-01-12 06:06:36.160724</td>\n",
       "      <td>2021-01-12 06:06:36.160724</td>\n",
       "    </tr>\n",
       "    <tr>\n",
       "      <th>6</th>\n",
       "      <td>7</td>\n",
       "      <td>34338</td>\n",
       "      <td>34125</td>\n",
       "      <td>2021-01-12 06:06:36.160724</td>\n",
       "      <td>2021-01-12 06:06:36.160724</td>\n",
       "    </tr>\n",
       "    <tr>\n",
       "      <th>7</th>\n",
       "      <td>8</td>\n",
       "      <td>34371</td>\n",
       "      <td>34125</td>\n",
       "      <td>2021-01-12 06:06:36.160724</td>\n",
       "      <td>2021-01-12 06:06:36.160724</td>\n",
       "    </tr>\n",
       "    <tr>\n",
       "      <th>8</th>\n",
       "      <td>9</td>\n",
       "      <td>414</td>\n",
       "      <td>413</td>\n",
       "      <td>2021-01-12 06:06:36.160724</td>\n",
       "      <td>2021-01-12 06:06:36.160724</td>\n",
       "    </tr>\n",
       "    <tr>\n",
       "      <th>9</th>\n",
       "      <td>10</td>\n",
       "      <td>581</td>\n",
       "      <td>453</td>\n",
       "      <td>2021-01-12 06:06:36.160724</td>\n",
       "      <td>2021-01-12 06:06:36.160724</td>\n",
       "    </tr>\n",
       "  </tbody>\n",
       "</table>\n",
       "</div>"
      ],
      "text/plain": [
       "   id  child_id  parent_id                  created_at  \\\n",
       "0   1         3          2  2021-01-12 06:06:36.160724   \n",
       "1   2        41          3  2021-01-12 06:06:36.160724   \n",
       "2   3     34206      34125  2021-01-12 06:06:36.160724   \n",
       "3   4     34231      34125  2021-01-12 06:06:36.160724   \n",
       "4   5     34238      34125  2021-01-12 06:06:36.160724   \n",
       "5   6     34253      34125  2021-01-12 06:06:36.160724   \n",
       "6   7     34338      34125  2021-01-12 06:06:36.160724   \n",
       "7   8     34371      34125  2021-01-12 06:06:36.160724   \n",
       "8   9       414        413  2021-01-12 06:06:36.160724   \n",
       "9  10       581        453  2021-01-12 06:06:36.160724   \n",
       "\n",
       "                   updated_at  \n",
       "0  2021-01-12 06:06:36.160724  \n",
       "1  2021-01-12 06:06:36.160724  \n",
       "2  2021-01-12 06:06:36.160724  \n",
       "3  2021-01-12 06:06:36.160724  \n",
       "4  2021-01-12 06:06:36.160724  \n",
       "5  2021-01-12 06:06:36.160724  \n",
       "6  2021-01-12 06:06:36.160724  \n",
       "7  2021-01-12 06:06:36.160724  \n",
       "8  2021-01-12 06:06:36.160724  \n",
       "9  2021-01-12 06:06:36.160724  "
      ]
     },
     "execution_count": 154,
     "metadata": {},
     "output_type": "execute_result"
    }
   ],
   "source": [
    "df2 = pd.read_csv(\"territory_parents.csv\", sep = ',')\n",
    "df2.head(10)"
   ]
  },
  {
   "cell_type": "code",
   "execution_count": 155,
   "id": "a309fcfb",
   "metadata": {},
   "outputs": [],
   "source": [
    "parent_dict = {}\n",
    "for i in range(len(df2)):\n",
    "    parent_dict[df2['id'][i]] = df2['parent_id'][i]"
   ]
  },
  {
   "cell_type": "code",
   "execution_count": 156,
   "id": "ac4401d7",
   "metadata": {},
   "outputs": [
    {
     "data": {
      "text/plain": [
       "('Ain', 'FRDEPA', '01')"
      ]
     },
     "execution_count": 156,
     "metadata": {},
     "output_type": "execute_result"
    }
   ],
   "source": [
    "id_dict[3]"
   ]
  },
  {
   "cell_type": "code",
   "execution_count": 16,
   "id": "c1dc0086",
   "metadata": {},
   "outputs": [],
   "source": [
    "#Objectif: construct a json file with the propreties 'name' and 'child'\n",
    "#'name' is the name of the territory identifier and children is their sous departements"
   ]
  },
  {
   "cell_type": "code",
   "execution_count": 18,
   "id": "d0ef568b",
   "metadata": {},
   "outputs": [],
   "source": [
    "#id_dict[df1['id'][i]] = (df1['name'][i], df1['kind'][i], df1['code'][i])"
   ]
  },
  {
   "cell_type": "code",
   "execution_count": 157,
   "id": "460b1a5e",
   "metadata": {},
   "outputs": [
    {
     "data": {
      "text/plain": [
       "('Ain', 'FRDEPA')"
      ]
     },
     "execution_count": 157,
     "metadata": {},
     "output_type": "execute_result"
    }
   ],
   "source": [
    "departs[3]"
   ]
  },
  {
   "cell_type": "code",
   "execution_count": 158,
   "id": "4f8f3b91",
   "metadata": {},
   "outputs": [],
   "source": [
    "#We want to have a list of departements of france with their subdivisions\n",
    "fr_departements = []\n",
    "for k in departs.keys():\n",
    "    temp = {\n",
    "        'id' : int(k),\n",
    "        'name' : id_dict[k][0],\n",
    "        'kind' : id_dict[k][1],\n",
    "        'code': id_dict[k][2],\n",
    "        'children':[]\n",
    "    }\n",
    "    fr_departements.append(temp)"
   ]
  },
  {
   "cell_type": "code",
   "execution_count": 159,
   "id": "122d20a5",
   "metadata": {},
   "outputs": [
    {
     "data": {
      "text/plain": [
       "109"
      ]
     },
     "execution_count": 159,
     "metadata": {},
     "output_type": "execute_result"
    }
   ],
   "source": [
    "len(fr_departements)"
   ]
  },
  {
   "cell_type": "code",
   "execution_count": 160,
   "id": "06f41ec4",
   "metadata": {},
   "outputs": [],
   "source": [
    "#{'FRCANT', 'FRCOMM', 'FRDEPA', 'FREPCI', 'FRPAYS', 'FRREGI'}\n",
    "#regis, departs, epcis, communes, cantons\n",
    "#levels = ['FRPAYS', 'FRREGI':regis, 'FRDEPA':departs, ['FREPCI':epcis, 'FRCOMM':communes], 'FRCANT':cantons]\n",
    "#key: df2.iloc[id-1]\n",
    "def construct_dict(graph:Dict, child_parent_dict:Dict)->None:\n",
    "    if graph['kind']=='FRDEPA':\n",
    "        for k in epcis.keys():\n",
    "            if k in id_dict and k in child_parent_dict and child_parent_dict[k]==graph['id']:\n",
    "                name, kind, code = id_dict[k][0], id_dict[k][1], id_dict[k][2],\n",
    "                graph['children'].append(\n",
    "                    {'id' : int(k), 'name' : name, 'kind': kind, 'code': code, 'children':[]}\n",
    "                )\n",
    "        to_delete = set()\n",
    "        for k in communes.keys():\n",
    "            if k in id_dict and k in child_parent_dict and child_parent_dict[k]==graph['id']:\n",
    "                name, kind, code = id_dict[k][0], id_dict[k][1], id_dict[k][2],\n",
    "                graph['children'].append(\n",
    "                    {'id' : int(k), 'name' : name, 'kind': kind, 'code': code, 'children':[]}\n",
    "                )\n",
    "                to_delete.add(k)\n",
    "                \n",
    "        for k in to_delete:#communes already belongs to this departement won't belong to another departement or EPCI\n",
    "            del communes[k]\n",
    "        \n",
    "        to_delete = set()\n",
    "        for k in cantons.keys():\n",
    "            if k in id_dict and k in child_parent_dict and child_parent_dict[k]==graph['id']:\n",
    "                name, kind, code = id_dict[k][0], id_dict[k][1], id_dict[k][2],\n",
    "                graph['children'].append(\n",
    "                    {'id' : int(k), 'name' : name, 'kind': kind, 'code': code, 'children':[]}\n",
    "                )\n",
    "        for k in to_delete:#communes already belongs to this departement won't belong to another departement or EPCI\n",
    "            del cantons[k]\n",
    "        for child in graph['children']:\n",
    "            construct_dict(child, child_parent_dict)\n",
    "    elif graph['kind']=='FREPCI':\n",
    "        for k in communes.keys():\n",
    "            if k in id_dict and k in child_parent_dict and child_parent_dict[k]==graph['id']:\n",
    "                name, kind, code = id_dict[k][0], id_dict[k][1], id_dict[k][2],\n",
    "                graph['children'].append(\n",
    "                    {'id' : int(k), 'name' : name, 'kind': kind, 'code': code, 'children':[]}\n",
    "                )"
   ]
  },
  {
   "cell_type": "code",
   "execution_count": 161,
   "id": "0302f8a0",
   "metadata": {
    "scrolled": true
   },
   "outputs": [],
   "source": [
    "for ele in fr_departements:\n",
    "    construct_dict(ele, parent_dict)"
   ]
  },
  {
   "cell_type": "code",
   "execution_count": 162,
   "id": "e185abbd",
   "metadata": {},
   "outputs": [
    {
     "data": {
      "text/plain": [
       "numpy.int64"
      ]
     },
     "execution_count": 162,
     "metadata": {},
     "output_type": "execute_result"
    }
   ],
   "source": [
    "type(df1['id'][2])"
   ]
  },
  {
   "cell_type": "code",
   "execution_count": 163,
   "id": "021bfad4",
   "metadata": {},
   "outputs": [],
   "source": [
    "import numpy as np\n",
    "\n",
    "class NpEncoder(json.JSONEncoder):\n",
    "    def default(self, obj):\n",
    "        if isinstance(obj, np.integer):\n",
    "            return int(obj)\n",
    "        return super(NpEncoder, self).default(obj)"
   ]
  },
  {
   "cell_type": "code",
   "execution_count": 164,
   "id": "69f04e50",
   "metadata": {},
   "outputs": [],
   "source": [
    "with open(\"data.json\",\"w\", encoding = 'utf-8') as file:\n",
    "    json.dump(fr_departements, file, cls = NpEncoder)"
   ]
  },
  {
   "cell_type": "markdown",
   "id": "43893e05",
   "metadata": {},
   "source": [
    "### Link \"elu.json\" to the territoires"
   ]
  },
  {
   "cell_type": "code",
   "execution_count": 165,
   "id": "00f05ab6",
   "metadata": {},
   "outputs": [],
   "source": [
    "# Opening JSON file\n",
    "f = open('elu.json',encoding = \"utf-8\")\n",
    "  \n",
    "# returns JSON object as \n",
    "# a dictionary\n",
    "data = json.load(f)\n",
    "  \n",
    "# Iterating through the json\n",
    "# list"
   ]
  },
  {
   "cell_type": "code",
   "execution_count": 166,
   "id": "815ce50a",
   "metadata": {},
   "outputs": [
    {
     "data": {
      "text/plain": [
       "50"
      ]
     },
     "execution_count": 166,
     "metadata": {},
     "output_type": "execute_result"
    }
   ],
   "source": [
    "len(data)"
   ]
  },
  {
   "cell_type": "code",
   "execution_count": 170,
   "id": "7fa96aa3",
   "metadata": {},
   "outputs": [],
   "source": [
    "tid_dict = dict()\n",
    "for i in range(len(df1)):\n",
    "    if(type(df1['name'][i])!=str):\n",
    "        continue\n",
    "    tid_dict[df1['kind'][i]+df1['code'][i]] = ((df1['name'][i]), [])"
   ]
  },
  {
   "cell_type": "code",
   "execution_count": 171,
   "id": "473b2542",
   "metadata": {},
   "outputs": [
    {
     "name": "stdout",
     "output_type": "stream",
     "text": [
      "_type  :  physical_person\n",
      "_id  :  225712\n",
      "_source  :  {'physical_person_id': 225712, 'firstname': 'Hervé', 'lastname': 'Baube', 'fullname': 'Hervé Baube', 'departments_uids': ['FRDEPA02'], 'positions': [{'end_date': '2020-05-18', 'profession': 'Contremaitres', 'ranking_score': 1050, 'role_uid': 'membre conseil municipal', 'start_date': '2014-03-23', 'territory_uid': 'FRCOMM02468'}], 'has_current_position': False}\n",
      "sort  :  [9223372036854775807]\n"
     ]
    }
   ],
   "source": [
    "for k,v in data[0].items():\n",
    "    print(k,\" : \",v)"
   ]
  },
  {
   "cell_type": "code",
   "execution_count": 173,
   "id": "6075567f",
   "metadata": {},
   "outputs": [
    {
     "data": {
      "text/plain": [
       "42283"
      ]
     },
     "execution_count": 173,
     "metadata": {},
     "output_type": "execute_result"
    }
   ],
   "source": [
    "len(tid_dict)"
   ]
  },
  {
   "cell_type": "code",
   "execution_count": 174,
   "id": "87de8812",
   "metadata": {},
   "outputs": [
    {
     "data": {
      "text/plain": [
       "('Moulins', [])"
      ]
     },
     "execution_count": 174,
     "metadata": {},
     "output_type": "execute_result"
    }
   ],
   "source": [
    "tid_dict['FRCOMM03190']"
   ]
  },
  {
   "cell_type": "code",
   "execution_count": null,
   "id": "64dfa06a",
   "metadata": {},
   "outputs": [],
   "source": [
    "#Prénom, Nom, Positions"
   ]
  },
  {
   "cell_type": "code",
   "execution_count": 176,
   "id": "3bea7e30",
   "metadata": {},
   "outputs": [],
   "source": [
    "for i in range(len(data)):\n",
    "    if len(data[i]['_source']['positions'])<=0:\n",
    "        continue\n",
    "    for j in range(len(data[i]['_source']['positions'])):\n",
    "        if data[i]['_source']['positions'][j]['territory_uid'] in tid_dict:\n",
    "            tid_dict[data[i]['_source']['positions'][j]['territory_uid']][1].append(\n",
    "                (data[i]['_source']['fullname'],data[i]['_source']['positions'][j]['end_date'] == None))\n",
    "        else:\n",
    "            print(data[i])"
   ]
  },
  {
   "cell_type": "code",
   "execution_count": 178,
   "id": "38d6b2f3",
   "metadata": {},
   "outputs": [
    {
     "data": {
      "text/plain": [
       "('Moulins', [('Hamza Budak', False), ('Hamza Budak', True)])"
      ]
     },
     "execution_count": 178,
     "metadata": {},
     "output_type": "execute_result"
    }
   ],
   "source": [
    "tid_dict['FRCOMM03190']"
   ]
  },
  {
   "cell_type": "code",
   "execution_count": 181,
   "id": "3989ce82",
   "metadata": {},
   "outputs": [],
   "source": [
    "ans_json = {}\n",
    "for k,v in tid_dict.items():\n",
    "    if len(v[1])>0:\n",
    "        ans_json[k] = v"
   ]
  },
  {
   "cell_type": "code",
   "execution_count": 182,
   "id": "c3cf095d",
   "metadata": {},
   "outputs": [
    {
     "data": {
      "text/plain": [
       "64"
      ]
     },
     "execution_count": 182,
     "metadata": {},
     "output_type": "execute_result"
    }
   ],
   "source": [
    "len(ans_json)"
   ]
  },
  {
   "cell_type": "code",
   "execution_count": 185,
   "id": "3d007d85",
   "metadata": {},
   "outputs": [],
   "source": [
    "with open(\"elu_terr.json\",\"w\", encoding = 'utf-8') as file:\n",
    "    json.dump(ans_json, file, cls = NpEncoder)"
   ]
  },
  {
   "cell_type": "code",
   "execution_count": 183,
   "id": "00aca151",
   "metadata": {},
   "outputs": [
    {
     "data": {
      "text/plain": [
       "50"
      ]
     },
     "execution_count": 183,
     "metadata": {},
     "output_type": "execute_result"
    }
   ],
   "source": [
    "len(data)"
   ]
  },
  {
   "cell_type": "code",
   "execution_count": 186,
   "id": "bb42657a",
   "metadata": {},
   "outputs": [],
   "source": [
    "f.close()"
   ]
  }
 ],
 "metadata": {
  "kernelspec": {
   "display_name": "Python 3 (ipykernel)",
   "language": "python",
   "name": "python3"
  },
  "language_info": {
   "codemirror_mode": {
    "name": "ipython",
    "version": 3
   },
   "file_extension": ".py",
   "mimetype": "text/x-python",
   "name": "python",
   "nbconvert_exporter": "python",
   "pygments_lexer": "ipython3",
   "version": "3.8.3"
  }
 },
 "nbformat": 4,
 "nbformat_minor": 5
}
